{
  "nbformat": 4,
  "nbformat_minor": 0,
  "metadata": {
    "colab": {
      "name": "company_price_change.ipynb",
      "provenance": []
    },
    "kernelspec": {
      "name": "python3",
      "display_name": "Python 3"
    },
    "language_info": {
      "name": "python"
    }
  },
  "cells": [
    {
      "cell_type": "markdown",
      "metadata": {
        "id": "yur9SBoG0Dg3"
      },
      "source": [
        "I have assumed that the price data file is of the fomat SYMBOL.csv (e.g. SBUX.csv). The news dates file are as they were created in headline_txt_file.py, i.e. company_site.csv (e.g. starbucks_bl.csv)."
      ]
    },
    {
      "cell_type": "code",
      "metadata": {
        "id": "a_-u27ZvQ1fo"
      },
      "source": [
        "import pandas as pd\n",
        "\n",
        "df1 = pd.read_csv('WMT.csv')\n",
        "df2 = pd.read_csv('walmart_bl.csv')\n",
        "\n",
        "price_time = pd.to_datetime(df1['Date'].values)\n",
        "price_open = df1['Open'].values\n",
        "price_close = df1['Close'].values\n",
        "\n",
        "news_time = pd.to_datetime(df2['News date'].values)"
      ],
      "execution_count": 34,
      "outputs": []
    },
    {
      "cell_type": "code",
      "metadata": {
        "id": "rGz9MAlyxLdb"
      },
      "source": [
        "# function finds nearest next day for which there is price data available\n",
        "def nearest(dates, today):\n",
        "  tomorrow = today + pd.Timedelta('1 day')\n",
        "  if tomorrow in dates:\n",
        "    return tomorrow\n",
        "  else:\n",
        "    return min([i for i in dates if i > today], key=lambda x: abs(x - today))\n",
        "\n",
        "price_change = price_close - price_open\n",
        "news_price_change = []\n",
        "\n",
        "for time in news_time:\n",
        "  j = list(price_time).index(nearest(price_time, time))\n",
        "  news_price_change.append(price_change[j])\n",
        "\n",
        "df2['Price change'] = news_price_change\n",
        "df2.to_csv('walmart_bl.csv', index=False)"
      ],
      "execution_count": 35,
      "outputs": []
    }
  ]
}