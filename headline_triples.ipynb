{
  "nbformat": 4,
  "nbformat_minor": 0,
  "metadata": {
    "colab": {
      "name": "headline_triples.ipynb",
      "provenance": [],
      "collapsed_sections": []
    },
    "kernelspec": {
      "name": "python3",
      "display_name": "Python 3"
    },
    "language_info": {
      "name": "python"
    }
  },
  "cells": [
    {
      "cell_type": "markdown",
      "metadata": {
        "id": "AqZkLkM_4Zmy"
      },
      "source": [
        "First download the Stanford CoreNLP as per the instructions on their website: https://stanfordnlp.github.io/CoreNLP/download.html"
      ]
    },
    {
      "cell_type": "code",
      "metadata": {
        "id": "5WT9siJX4XSO"
      },
      "source": [
        "!cd stanford-corenlp-4.2.2\n",
        "!java -mx1g -cp \"*\" edu.stanford.nlp.naturalli.OpenIE /path/to/input.txt -output /path/to/output.txt"
      ],
      "execution_count": null,
      "outputs": []
    },
    {
      "cell_type": "markdown",
      "metadata": {
        "id": "9CpOvjemUnfT"
      },
      "source": [
        "Honestly the results aren't great. I realised while writing this that by using Marco's method of extracting the headlines, there will likely be a significant improvement."
      ]
    }
  ]
}